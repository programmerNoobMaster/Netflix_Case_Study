{
 "cells": [
  {
   "cell_type": "markdown",
   "id": "da1b4c2b",
   "metadata": {},
   "source": [
    "# Netflix case study Scaler"
   ]
  },
  {
   "cell_type": "code",
   "execution_count": 1,
   "id": "a8ddf228",
   "metadata": {},
   "outputs": [],
   "source": [
    "import numpy as np\n",
    "import pandas as pd\n",
    "import matplotlib.pyplot as plt \n",
    "import seaborn as sns"
   ]
  },
  {
   "cell_type": "markdown",
   "id": "a2092349",
   "metadata": {},
   "source": [
    "### Importing the netflix dataset"
   ]
  },
  {
   "cell_type": "code",
   "execution_count": 2,
   "id": "ec4c3ef3",
   "metadata": {},
   "outputs": [],
   "source": [
    "df = pd.read_csv('Netflix.csv')"
   ]
  },
  {
   "cell_type": "code",
   "execution_count": 3,
   "id": "7d1e6d7a",
   "metadata": {},
   "outputs": [
    {
     "data": {
      "text/html": [
       "<div>\n",
       "<style scoped>\n",
       "    .dataframe tbody tr th:only-of-type {\n",
       "        vertical-align: middle;\n",
       "    }\n",
       "\n",
       "    .dataframe tbody tr th {\n",
       "        vertical-align: top;\n",
       "    }\n",
       "\n",
       "    .dataframe thead th {\n",
       "        text-align: right;\n",
       "    }\n",
       "</style>\n",
       "<table border=\"1\" class=\"dataframe\">\n",
       "  <thead>\n",
       "    <tr style=\"text-align: right;\">\n",
       "      <th></th>\n",
       "      <th>show_id</th>\n",
       "      <th>type</th>\n",
       "      <th>title</th>\n",
       "      <th>director</th>\n",
       "      <th>cast</th>\n",
       "      <th>country</th>\n",
       "      <th>date_added</th>\n",
       "      <th>release_year</th>\n",
       "      <th>rating</th>\n",
       "      <th>duration</th>\n",
       "      <th>listed_in</th>\n",
       "      <th>description</th>\n",
       "    </tr>\n",
       "  </thead>\n",
       "  <tbody>\n",
       "    <tr>\n",
       "      <th>0</th>\n",
       "      <td>s1</td>\n",
       "      <td>Movie</td>\n",
       "      <td>Dick Johnson Is Dead</td>\n",
       "      <td>Kirsten Johnson</td>\n",
       "      <td>NaN</td>\n",
       "      <td>United States</td>\n",
       "      <td>September 25, 2021</td>\n",
       "      <td>2020</td>\n",
       "      <td>PG-13</td>\n",
       "      <td>90 min</td>\n",
       "      <td>Documentaries</td>\n",
       "      <td>As her father nears the end of his life, filmm...</td>\n",
       "    </tr>\n",
       "    <tr>\n",
       "      <th>1</th>\n",
       "      <td>s2</td>\n",
       "      <td>TV Show</td>\n",
       "      <td>Blood &amp; Water</td>\n",
       "      <td>NaN</td>\n",
       "      <td>Ama Qamata, Khosi Ngema, Gail Mabalane, Thaban...</td>\n",
       "      <td>South Africa</td>\n",
       "      <td>September 24, 2021</td>\n",
       "      <td>2021</td>\n",
       "      <td>TV-MA</td>\n",
       "      <td>2 Seasons</td>\n",
       "      <td>International TV Shows, TV Dramas, TV Mysteries</td>\n",
       "      <td>After crossing paths at a party, a Cape Town t...</td>\n",
       "    </tr>\n",
       "    <tr>\n",
       "      <th>2</th>\n",
       "      <td>s3</td>\n",
       "      <td>TV Show</td>\n",
       "      <td>Ganglands</td>\n",
       "      <td>Julien Leclercq</td>\n",
       "      <td>Sami Bouajila, Tracy Gotoas, Samuel Jouy, Nabi...</td>\n",
       "      <td>NaN</td>\n",
       "      <td>September 24, 2021</td>\n",
       "      <td>2021</td>\n",
       "      <td>TV-MA</td>\n",
       "      <td>1 Season</td>\n",
       "      <td>Crime TV Shows, International TV Shows, TV Act...</td>\n",
       "      <td>To protect his family from a powerful drug lor...</td>\n",
       "    </tr>\n",
       "    <tr>\n",
       "      <th>3</th>\n",
       "      <td>s4</td>\n",
       "      <td>TV Show</td>\n",
       "      <td>Jailbirds New Orleans</td>\n",
       "      <td>NaN</td>\n",
       "      <td>NaN</td>\n",
       "      <td>NaN</td>\n",
       "      <td>September 24, 2021</td>\n",
       "      <td>2021</td>\n",
       "      <td>TV-MA</td>\n",
       "      <td>1 Season</td>\n",
       "      <td>Docuseries, Reality TV</td>\n",
       "      <td>Feuds, flirtations and toilet talk go down amo...</td>\n",
       "    </tr>\n",
       "    <tr>\n",
       "      <th>4</th>\n",
       "      <td>s5</td>\n",
       "      <td>TV Show</td>\n",
       "      <td>Kota Factory</td>\n",
       "      <td>NaN</td>\n",
       "      <td>Mayur More, Jitendra Kumar, Ranjan Raj, Alam K...</td>\n",
       "      <td>India</td>\n",
       "      <td>September 24, 2021</td>\n",
       "      <td>2021</td>\n",
       "      <td>TV-MA</td>\n",
       "      <td>2 Seasons</td>\n",
       "      <td>International TV Shows, Romantic TV Shows, TV ...</td>\n",
       "      <td>In a city of coaching centers known to train I...</td>\n",
       "    </tr>\n",
       "    <tr>\n",
       "      <th>5</th>\n",
       "      <td>s6</td>\n",
       "      <td>TV Show</td>\n",
       "      <td>Midnight Mass</td>\n",
       "      <td>Mike Flanagan</td>\n",
       "      <td>Kate Siegel, Zach Gilford, Hamish Linklater, H...</td>\n",
       "      <td>NaN</td>\n",
       "      <td>September 24, 2021</td>\n",
       "      <td>2021</td>\n",
       "      <td>TV-MA</td>\n",
       "      <td>1 Season</td>\n",
       "      <td>TV Dramas, TV Horror, TV Mysteries</td>\n",
       "      <td>The arrival of a charismatic young priest brin...</td>\n",
       "    </tr>\n",
       "    <tr>\n",
       "      <th>6</th>\n",
       "      <td>s7</td>\n",
       "      <td>Movie</td>\n",
       "      <td>My Little Pony: A New Generation</td>\n",
       "      <td>Robert Cullen, JosÃ© Luis Ucha</td>\n",
       "      <td>Vanessa Hudgens, Kimiko Glenn, James Marsden, ...</td>\n",
       "      <td>NaN</td>\n",
       "      <td>September 24, 2021</td>\n",
       "      <td>2021</td>\n",
       "      <td>PG</td>\n",
       "      <td>91 min</td>\n",
       "      <td>Children &amp; Family Movies</td>\n",
       "      <td>Equestria's divided. But a bright-eyed hero be...</td>\n",
       "    </tr>\n",
       "  </tbody>\n",
       "</table>\n",
       "</div>"
      ],
      "text/plain": [
       "  show_id     type                             title  \\\n",
       "0      s1    Movie              Dick Johnson Is Dead   \n",
       "1      s2  TV Show                     Blood & Water   \n",
       "2      s3  TV Show                         Ganglands   \n",
       "3      s4  TV Show             Jailbirds New Orleans   \n",
       "4      s5  TV Show                      Kota Factory   \n",
       "5      s6  TV Show                     Midnight Mass   \n",
       "6      s7    Movie  My Little Pony: A New Generation   \n",
       "\n",
       "                         director  \\\n",
       "0                 Kirsten Johnson   \n",
       "1                             NaN   \n",
       "2                 Julien Leclercq   \n",
       "3                             NaN   \n",
       "4                             NaN   \n",
       "5                   Mike Flanagan   \n",
       "6  Robert Cullen, JosÃ© Luis Ucha   \n",
       "\n",
       "                                                cast        country  \\\n",
       "0                                                NaN  United States   \n",
       "1  Ama Qamata, Khosi Ngema, Gail Mabalane, Thaban...   South Africa   \n",
       "2  Sami Bouajila, Tracy Gotoas, Samuel Jouy, Nabi...            NaN   \n",
       "3                                                NaN            NaN   \n",
       "4  Mayur More, Jitendra Kumar, Ranjan Raj, Alam K...          India   \n",
       "5  Kate Siegel, Zach Gilford, Hamish Linklater, H...            NaN   \n",
       "6  Vanessa Hudgens, Kimiko Glenn, James Marsden, ...            NaN   \n",
       "\n",
       "           date_added  release_year rating   duration  \\\n",
       "0  September 25, 2021          2020  PG-13     90 min   \n",
       "1  September 24, 2021          2021  TV-MA  2 Seasons   \n",
       "2  September 24, 2021          2021  TV-MA   1 Season   \n",
       "3  September 24, 2021          2021  TV-MA   1 Season   \n",
       "4  September 24, 2021          2021  TV-MA  2 Seasons   \n",
       "5  September 24, 2021          2021  TV-MA   1 Season   \n",
       "6  September 24, 2021          2021     PG     91 min   \n",
       "\n",
       "                                           listed_in  \\\n",
       "0                                      Documentaries   \n",
       "1    International TV Shows, TV Dramas, TV Mysteries   \n",
       "2  Crime TV Shows, International TV Shows, TV Act...   \n",
       "3                             Docuseries, Reality TV   \n",
       "4  International TV Shows, Romantic TV Shows, TV ...   \n",
       "5                 TV Dramas, TV Horror, TV Mysteries   \n",
       "6                           Children & Family Movies   \n",
       "\n",
       "                                         description  \n",
       "0  As her father nears the end of his life, filmm...  \n",
       "1  After crossing paths at a party, a Cape Town t...  \n",
       "2  To protect his family from a powerful drug lor...  \n",
       "3  Feuds, flirtations and toilet talk go down amo...  \n",
       "4  In a city of coaching centers known to train I...  \n",
       "5  The arrival of a charismatic young priest brin...  \n",
       "6  Equestria's divided. But a bright-eyed hero be...  "
      ]
     },
     "execution_count": 3,
     "metadata": {},
     "output_type": "execute_result"
    }
   ],
   "source": [
    "df.head(7)"
   ]
  },
  {
   "cell_type": "markdown",
   "id": "008a9ba1",
   "metadata": {},
   "source": [
    "### We can use the info() method to get a summary of the type of data and how many data points are missing in the dataframe"
   ]
  },
  {
   "cell_type": "code",
   "execution_count": 4,
   "id": "081e84ca",
   "metadata": {},
   "outputs": [
    {
     "name": "stdout",
     "output_type": "stream",
     "text": [
      "<class 'pandas.core.frame.DataFrame'>\n",
      "RangeIndex: 8807 entries, 0 to 8806\n",
      "Data columns (total 12 columns):\n",
      " #   Column        Non-Null Count  Dtype \n",
      "---  ------        --------------  ----- \n",
      " 0   show_id       8807 non-null   object\n",
      " 1   type          8807 non-null   object\n",
      " 2   title         8807 non-null   object\n",
      " 3   director      6173 non-null   object\n",
      " 4   cast          7982 non-null   object\n",
      " 5   country       7976 non-null   object\n",
      " 6   date_added    8797 non-null   object\n",
      " 7   release_year  8807 non-null   int64 \n",
      " 8   rating        8803 non-null   object\n",
      " 9   duration      8804 non-null   object\n",
      " 10  listed_in     8807 non-null   object\n",
      " 11  description   8807 non-null   object\n",
      "dtypes: int64(1), object(11)\n",
      "memory usage: 825.8+ KB\n"
     ]
    }
   ],
   "source": [
    "df.info()"
   ]
  },
  {
   "cell_type": "markdown",
   "id": "8f0591a8",
   "metadata": {},
   "source": [
    "### From the above information we can understand that we have a total of 8807 rows and columns such as director, cast, country, date_added, rating and duration have missing entries. Let's look at how many data points specifically are missing"
   ]
  },
  {
   "cell_type": "code",
   "execution_count": 5,
   "id": "c07212d8",
   "metadata": {},
   "outputs": [
    {
     "data": {
      "text/plain": [
       "show_id            0\n",
       "type               0\n",
       "title              0\n",
       "director        2634\n",
       "cast             825\n",
       "country          831\n",
       "date_added        10\n",
       "release_year       0\n",
       "rating             4\n",
       "duration           3\n",
       "listed_in          0\n",
       "description        0\n",
       "dtype: int64"
      ]
     },
     "execution_count": 5,
     "metadata": {},
     "output_type": "execute_result"
    }
   ],
   "source": [
    "df.isnull().sum()"
   ]
  },
  {
   "cell_type": "markdown",
   "id": "92ba8cd9",
   "metadata": {},
   "source": [
    "### Before treating the missing values let's explore the data a bit more"
   ]
  },
  {
   "cell_type": "markdown",
   "id": "98720d2c",
   "metadata": {},
   "source": [
    "### Let's see if we have any duplicate rows "
   ]
  },
  {
   "cell_type": "code",
   "execution_count": 6,
   "id": "5479bd02",
   "metadata": {},
   "outputs": [
    {
     "data": {
      "text/plain": [
       "0"
      ]
     },
     "execution_count": 6,
     "metadata": {},
     "output_type": "execute_result"
    }
   ],
   "source": [
    "df.duplicated().sum()"
   ]
  },
  {
   "cell_type": "markdown",
   "id": "59504504",
   "metadata": {},
   "source": [
    "### Since we now only have one column release_year of the data type of integer we can use the describe method to understand the various attributes of this column "
   ]
  },
  {
   "cell_type": "code",
   "execution_count": 7,
   "id": "73b8413b",
   "metadata": {},
   "outputs": [
    {
     "data": {
      "text/html": [
       "<div>\n",
       "<style scoped>\n",
       "    .dataframe tbody tr th:only-of-type {\n",
       "        vertical-align: middle;\n",
       "    }\n",
       "\n",
       "    .dataframe tbody tr th {\n",
       "        vertical-align: top;\n",
       "    }\n",
       "\n",
       "    .dataframe thead th {\n",
       "        text-align: right;\n",
       "    }\n",
       "</style>\n",
       "<table border=\"1\" class=\"dataframe\">\n",
       "  <thead>\n",
       "    <tr style=\"text-align: right;\">\n",
       "      <th></th>\n",
       "      <th>release_year</th>\n",
       "    </tr>\n",
       "  </thead>\n",
       "  <tbody>\n",
       "    <tr>\n",
       "      <th>count</th>\n",
       "      <td>8807.000000</td>\n",
       "    </tr>\n",
       "    <tr>\n",
       "      <th>mean</th>\n",
       "      <td>2014.180198</td>\n",
       "    </tr>\n",
       "    <tr>\n",
       "      <th>std</th>\n",
       "      <td>8.819312</td>\n",
       "    </tr>\n",
       "    <tr>\n",
       "      <th>min</th>\n",
       "      <td>1925.000000</td>\n",
       "    </tr>\n",
       "    <tr>\n",
       "      <th>25%</th>\n",
       "      <td>2013.000000</td>\n",
       "    </tr>\n",
       "    <tr>\n",
       "      <th>50%</th>\n",
       "      <td>2017.000000</td>\n",
       "    </tr>\n",
       "    <tr>\n",
       "      <th>75%</th>\n",
       "      <td>2019.000000</td>\n",
       "    </tr>\n",
       "    <tr>\n",
       "      <th>max</th>\n",
       "      <td>2021.000000</td>\n",
       "    </tr>\n",
       "  </tbody>\n",
       "</table>\n",
       "</div>"
      ],
      "text/plain": [
       "       release_year\n",
       "count   8807.000000\n",
       "mean    2014.180198\n",
       "std        8.819312\n",
       "min     1925.000000\n",
       "25%     2013.000000\n",
       "50%     2017.000000\n",
       "75%     2019.000000\n",
       "max     2021.000000"
      ]
     },
     "execution_count": 7,
     "metadata": {},
     "output_type": "execute_result"
    }
   ],
   "source": [
    "df.describe()"
   ]
  },
  {
   "cell_type": "markdown",
   "id": "581b28c8",
   "metadata": {},
   "source": [
    "#### From the above data we can see that the mean is 2014 which indicates that most of the movies/series in the data set are from the year of 2014. The oldest item in the dataset is as old as 1925 and the oldest data entry is that of 2021"
   ]
  },
  {
   "cell_type": "markdown",
   "id": "e248ee7a",
   "metadata": {},
   "source": [
    "### Now let's see among the various columns how many uniques values are present in each column:"
   ]
  },
  {
   "cell_type": "code",
   "execution_count": 8,
   "id": "8d0e5e26",
   "metadata": {},
   "outputs": [
    {
     "data": {
      "text/plain": [
       "show_id         8807\n",
       "type               2\n",
       "title           8807\n",
       "director        4528\n",
       "cast            7692\n",
       "country          748\n",
       "date_added      1767\n",
       "release_year      74\n",
       "rating            17\n",
       "duration         220\n",
       "listed_in        514\n",
       "description     8775\n",
       "dtype: int64"
      ]
     },
     "execution_count": 8,
     "metadata": {},
     "output_type": "execute_result"
    }
   ],
   "source": [
    "df.nunique()"
   ]
  },
  {
   "cell_type": "markdown",
   "id": "ca30290c",
   "metadata": {},
   "source": [
    "## Dealing with the missing values"
   ]
  },
  {
   "cell_type": "code",
   "execution_count": 9,
   "id": "b545ee1a",
   "metadata": {},
   "outputs": [
    {
     "data": {
      "text/html": [
       "<div>\n",
       "<style scoped>\n",
       "    .dataframe tbody tr th:only-of-type {\n",
       "        vertical-align: middle;\n",
       "    }\n",
       "\n",
       "    .dataframe tbody tr th {\n",
       "        vertical-align: top;\n",
       "    }\n",
       "\n",
       "    .dataframe thead th {\n",
       "        text-align: right;\n",
       "    }\n",
       "</style>\n",
       "<table border=\"1\" class=\"dataframe\">\n",
       "  <thead>\n",
       "    <tr style=\"text-align: right;\">\n",
       "      <th></th>\n",
       "      <th>show_id</th>\n",
       "      <th>type</th>\n",
       "      <th>title</th>\n",
       "      <th>director</th>\n",
       "      <th>cast</th>\n",
       "      <th>country</th>\n",
       "      <th>date_added</th>\n",
       "      <th>release_year</th>\n",
       "      <th>rating</th>\n",
       "      <th>duration</th>\n",
       "      <th>listed_in</th>\n",
       "      <th>description</th>\n",
       "    </tr>\n",
       "  </thead>\n",
       "  <tbody>\n",
       "    <tr>\n",
       "      <th>0</th>\n",
       "      <td>s1</td>\n",
       "      <td>Movie</td>\n",
       "      <td>Dick Johnson Is Dead</td>\n",
       "      <td>Kirsten Johnson</td>\n",
       "      <td>NaN</td>\n",
       "      <td>United States</td>\n",
       "      <td>September 25, 2021</td>\n",
       "      <td>2020</td>\n",
       "      <td>PG-13</td>\n",
       "      <td>90 min</td>\n",
       "      <td>Documentaries</td>\n",
       "      <td>As her father nears the end of his life, filmm...</td>\n",
       "    </tr>\n",
       "    <tr>\n",
       "      <th>1</th>\n",
       "      <td>s2</td>\n",
       "      <td>TV Show</td>\n",
       "      <td>Blood &amp; Water</td>\n",
       "      <td>NaN</td>\n",
       "      <td>Ama Qamata, Khosi Ngema, Gail Mabalane, Thaban...</td>\n",
       "      <td>South Africa</td>\n",
       "      <td>September 24, 2021</td>\n",
       "      <td>2021</td>\n",
       "      <td>TV-MA</td>\n",
       "      <td>2 Seasons</td>\n",
       "      <td>International TV Shows, TV Dramas, TV Mysteries</td>\n",
       "      <td>After crossing paths at a party, a Cape Town t...</td>\n",
       "    </tr>\n",
       "    <tr>\n",
       "      <th>2</th>\n",
       "      <td>s3</td>\n",
       "      <td>TV Show</td>\n",
       "      <td>Ganglands</td>\n",
       "      <td>Julien Leclercq</td>\n",
       "      <td>Sami Bouajila, Tracy Gotoas, Samuel Jouy, Nabi...</td>\n",
       "      <td>NaN</td>\n",
       "      <td>September 24, 2021</td>\n",
       "      <td>2021</td>\n",
       "      <td>TV-MA</td>\n",
       "      <td>1 Season</td>\n",
       "      <td>Crime TV Shows, International TV Shows, TV Act...</td>\n",
       "      <td>To protect his family from a powerful drug lor...</td>\n",
       "    </tr>\n",
       "    <tr>\n",
       "      <th>3</th>\n",
       "      <td>s4</td>\n",
       "      <td>TV Show</td>\n",
       "      <td>Jailbirds New Orleans</td>\n",
       "      <td>NaN</td>\n",
       "      <td>NaN</td>\n",
       "      <td>NaN</td>\n",
       "      <td>September 24, 2021</td>\n",
       "      <td>2021</td>\n",
       "      <td>TV-MA</td>\n",
       "      <td>1 Season</td>\n",
       "      <td>Docuseries, Reality TV</td>\n",
       "      <td>Feuds, flirtations and toilet talk go down amo...</td>\n",
       "    </tr>\n",
       "    <tr>\n",
       "      <th>4</th>\n",
       "      <td>s5</td>\n",
       "      <td>TV Show</td>\n",
       "      <td>Kota Factory</td>\n",
       "      <td>NaN</td>\n",
       "      <td>Mayur More, Jitendra Kumar, Ranjan Raj, Alam K...</td>\n",
       "      <td>India</td>\n",
       "      <td>September 24, 2021</td>\n",
       "      <td>2021</td>\n",
       "      <td>TV-MA</td>\n",
       "      <td>2 Seasons</td>\n",
       "      <td>International TV Shows, Romantic TV Shows, TV ...</td>\n",
       "      <td>In a city of coaching centers known to train I...</td>\n",
       "    </tr>\n",
       "    <tr>\n",
       "      <th>5</th>\n",
       "      <td>s6</td>\n",
       "      <td>TV Show</td>\n",
       "      <td>Midnight Mass</td>\n",
       "      <td>Mike Flanagan</td>\n",
       "      <td>Kate Siegel, Zach Gilford, Hamish Linklater, H...</td>\n",
       "      <td>NaN</td>\n",
       "      <td>September 24, 2021</td>\n",
       "      <td>2021</td>\n",
       "      <td>TV-MA</td>\n",
       "      <td>1 Season</td>\n",
       "      <td>TV Dramas, TV Horror, TV Mysteries</td>\n",
       "      <td>The arrival of a charismatic young priest brin...</td>\n",
       "    </tr>\n",
       "    <tr>\n",
       "      <th>6</th>\n",
       "      <td>s7</td>\n",
       "      <td>Movie</td>\n",
       "      <td>My Little Pony: A New Generation</td>\n",
       "      <td>Robert Cullen, JosÃ© Luis Ucha</td>\n",
       "      <td>Vanessa Hudgens, Kimiko Glenn, James Marsden, ...</td>\n",
       "      <td>NaN</td>\n",
       "      <td>September 24, 2021</td>\n",
       "      <td>2021</td>\n",
       "      <td>PG</td>\n",
       "      <td>91 min</td>\n",
       "      <td>Children &amp; Family Movies</td>\n",
       "      <td>Equestria's divided. But a bright-eyed hero be...</td>\n",
       "    </tr>\n",
       "    <tr>\n",
       "      <th>7</th>\n",
       "      <td>s8</td>\n",
       "      <td>Movie</td>\n",
       "      <td>Sankofa</td>\n",
       "      <td>Haile Gerima</td>\n",
       "      <td>Kofi Ghanaba, Oyafunmike Ogunlano, Alexandra D...</td>\n",
       "      <td>United States, Ghana, Burkina Faso, United Kin...</td>\n",
       "      <td>September 24, 2021</td>\n",
       "      <td>1993</td>\n",
       "      <td>TV-MA</td>\n",
       "      <td>125 min</td>\n",
       "      <td>Dramas, Independent Movies, International Movies</td>\n",
       "      <td>On a photo shoot in Ghana, an American model s...</td>\n",
       "    </tr>\n",
       "    <tr>\n",
       "      <th>8</th>\n",
       "      <td>s9</td>\n",
       "      <td>TV Show</td>\n",
       "      <td>The Great British Baking Show</td>\n",
       "      <td>Andy Devonshire</td>\n",
       "      <td>Mel Giedroyc, Sue Perkins, Mary Berry, Paul Ho...</td>\n",
       "      <td>United Kingdom</td>\n",
       "      <td>September 24, 2021</td>\n",
       "      <td>2021</td>\n",
       "      <td>TV-14</td>\n",
       "      <td>9 Seasons</td>\n",
       "      <td>British TV Shows, Reality TV</td>\n",
       "      <td>A talented batch of amateur bakers face off in...</td>\n",
       "    </tr>\n",
       "    <tr>\n",
       "      <th>9</th>\n",
       "      <td>s10</td>\n",
       "      <td>Movie</td>\n",
       "      <td>The Starling</td>\n",
       "      <td>Theodore Melfi</td>\n",
       "      <td>Melissa McCarthy, Chris O'Dowd, Kevin Kline, T...</td>\n",
       "      <td>United States</td>\n",
       "      <td>September 24, 2021</td>\n",
       "      <td>2021</td>\n",
       "      <td>PG-13</td>\n",
       "      <td>104 min</td>\n",
       "      <td>Comedies, Dramas</td>\n",
       "      <td>A woman adjusting to life after a loss contend...</td>\n",
       "    </tr>\n",
       "  </tbody>\n",
       "</table>\n",
       "</div>"
      ],
      "text/plain": [
       "  show_id     type                             title  \\\n",
       "0      s1    Movie              Dick Johnson Is Dead   \n",
       "1      s2  TV Show                     Blood & Water   \n",
       "2      s3  TV Show                         Ganglands   \n",
       "3      s4  TV Show             Jailbirds New Orleans   \n",
       "4      s5  TV Show                      Kota Factory   \n",
       "5      s6  TV Show                     Midnight Mass   \n",
       "6      s7    Movie  My Little Pony: A New Generation   \n",
       "7      s8    Movie                           Sankofa   \n",
       "8      s9  TV Show     The Great British Baking Show   \n",
       "9     s10    Movie                      The Starling   \n",
       "\n",
       "                         director  \\\n",
       "0                 Kirsten Johnson   \n",
       "1                             NaN   \n",
       "2                 Julien Leclercq   \n",
       "3                             NaN   \n",
       "4                             NaN   \n",
       "5                   Mike Flanagan   \n",
       "6  Robert Cullen, JosÃ© Luis Ucha   \n",
       "7                    Haile Gerima   \n",
       "8                 Andy Devonshire   \n",
       "9                  Theodore Melfi   \n",
       "\n",
       "                                                cast  \\\n",
       "0                                                NaN   \n",
       "1  Ama Qamata, Khosi Ngema, Gail Mabalane, Thaban...   \n",
       "2  Sami Bouajila, Tracy Gotoas, Samuel Jouy, Nabi...   \n",
       "3                                                NaN   \n",
       "4  Mayur More, Jitendra Kumar, Ranjan Raj, Alam K...   \n",
       "5  Kate Siegel, Zach Gilford, Hamish Linklater, H...   \n",
       "6  Vanessa Hudgens, Kimiko Glenn, James Marsden, ...   \n",
       "7  Kofi Ghanaba, Oyafunmike Ogunlano, Alexandra D...   \n",
       "8  Mel Giedroyc, Sue Perkins, Mary Berry, Paul Ho...   \n",
       "9  Melissa McCarthy, Chris O'Dowd, Kevin Kline, T...   \n",
       "\n",
       "                                             country          date_added  \\\n",
       "0                                      United States  September 25, 2021   \n",
       "1                                       South Africa  September 24, 2021   \n",
       "2                                                NaN  September 24, 2021   \n",
       "3                                                NaN  September 24, 2021   \n",
       "4                                              India  September 24, 2021   \n",
       "5                                                NaN  September 24, 2021   \n",
       "6                                                NaN  September 24, 2021   \n",
       "7  United States, Ghana, Burkina Faso, United Kin...  September 24, 2021   \n",
       "8                                     United Kingdom  September 24, 2021   \n",
       "9                                      United States  September 24, 2021   \n",
       "\n",
       "   release_year rating   duration  \\\n",
       "0          2020  PG-13     90 min   \n",
       "1          2021  TV-MA  2 Seasons   \n",
       "2          2021  TV-MA   1 Season   \n",
       "3          2021  TV-MA   1 Season   \n",
       "4          2021  TV-MA  2 Seasons   \n",
       "5          2021  TV-MA   1 Season   \n",
       "6          2021     PG     91 min   \n",
       "7          1993  TV-MA    125 min   \n",
       "8          2021  TV-14  9 Seasons   \n",
       "9          2021  PG-13    104 min   \n",
       "\n",
       "                                           listed_in  \\\n",
       "0                                      Documentaries   \n",
       "1    International TV Shows, TV Dramas, TV Mysteries   \n",
       "2  Crime TV Shows, International TV Shows, TV Act...   \n",
       "3                             Docuseries, Reality TV   \n",
       "4  International TV Shows, Romantic TV Shows, TV ...   \n",
       "5                 TV Dramas, TV Horror, TV Mysteries   \n",
       "6                           Children & Family Movies   \n",
       "7   Dramas, Independent Movies, International Movies   \n",
       "8                       British TV Shows, Reality TV   \n",
       "9                                   Comedies, Dramas   \n",
       "\n",
       "                                         description  \n",
       "0  As her father nears the end of his life, filmm...  \n",
       "1  After crossing paths at a party, a Cape Town t...  \n",
       "2  To protect his family from a powerful drug lor...  \n",
       "3  Feuds, flirtations and toilet talk go down amo...  \n",
       "4  In a city of coaching centers known to train I...  \n",
       "5  The arrival of a charismatic young priest brin...  \n",
       "6  Equestria's divided. But a bright-eyed hero be...  \n",
       "7  On a photo shoot in Ghana, an American model s...  \n",
       "8  A talented batch of amateur bakers face off in...  \n",
       "9  A woman adjusting to life after a loss contend...  "
      ]
     },
     "execution_count": 9,
     "metadata": {},
     "output_type": "execute_result"
    }
   ],
   "source": [
    "df.head(10)"
   ]
  },
  {
   "cell_type": "code",
   "execution_count": 10,
   "id": "34969d00",
   "metadata": {},
   "outputs": [],
   "source": [
    "df['director'].replace(np.nan, 'No Data', inplace=True)\n",
    "df['cast'].replace(np.nan, 'No Data', inplace=True)"
   ]
  },
  {
   "cell_type": "code",
   "execution_count": 11,
   "id": "5d627947",
   "metadata": {},
   "outputs": [
    {
     "data": {
      "text/html": [
       "<div>\n",
       "<style scoped>\n",
       "    .dataframe tbody tr th:only-of-type {\n",
       "        vertical-align: middle;\n",
       "    }\n",
       "\n",
       "    .dataframe tbody tr th {\n",
       "        vertical-align: top;\n",
       "    }\n",
       "\n",
       "    .dataframe thead th {\n",
       "        text-align: right;\n",
       "    }\n",
       "</style>\n",
       "<table border=\"1\" class=\"dataframe\">\n",
       "  <thead>\n",
       "    <tr style=\"text-align: right;\">\n",
       "      <th></th>\n",
       "      <th>show_id</th>\n",
       "      <th>type</th>\n",
       "      <th>title</th>\n",
       "      <th>director</th>\n",
       "      <th>cast</th>\n",
       "      <th>country</th>\n",
       "      <th>date_added</th>\n",
       "      <th>release_year</th>\n",
       "      <th>rating</th>\n",
       "      <th>duration</th>\n",
       "      <th>listed_in</th>\n",
       "      <th>description</th>\n",
       "    </tr>\n",
       "  </thead>\n",
       "  <tbody>\n",
       "    <tr>\n",
       "      <th>0</th>\n",
       "      <td>s1</td>\n",
       "      <td>Movie</td>\n",
       "      <td>Dick Johnson Is Dead</td>\n",
       "      <td>Kirsten Johnson</td>\n",
       "      <td>No Data</td>\n",
       "      <td>United States</td>\n",
       "      <td>September 25, 2021</td>\n",
       "      <td>2020</td>\n",
       "      <td>PG-13</td>\n",
       "      <td>90 min</td>\n",
       "      <td>Documentaries</td>\n",
       "      <td>As her father nears the end of his life, filmm...</td>\n",
       "    </tr>\n",
       "    <tr>\n",
       "      <th>1</th>\n",
       "      <td>s2</td>\n",
       "      <td>TV Show</td>\n",
       "      <td>Blood &amp; Water</td>\n",
       "      <td>No Data</td>\n",
       "      <td>Ama Qamata, Khosi Ngema, Gail Mabalane, Thaban...</td>\n",
       "      <td>South Africa</td>\n",
       "      <td>September 24, 2021</td>\n",
       "      <td>2021</td>\n",
       "      <td>TV-MA</td>\n",
       "      <td>2 Seasons</td>\n",
       "      <td>International TV Shows, TV Dramas, TV Mysteries</td>\n",
       "      <td>After crossing paths at a party, a Cape Town t...</td>\n",
       "    </tr>\n",
       "    <tr>\n",
       "      <th>2</th>\n",
       "      <td>s3</td>\n",
       "      <td>TV Show</td>\n",
       "      <td>Ganglands</td>\n",
       "      <td>Julien Leclercq</td>\n",
       "      <td>Sami Bouajila, Tracy Gotoas, Samuel Jouy, Nabi...</td>\n",
       "      <td>NaN</td>\n",
       "      <td>September 24, 2021</td>\n",
       "      <td>2021</td>\n",
       "      <td>TV-MA</td>\n",
       "      <td>1 Season</td>\n",
       "      <td>Crime TV Shows, International TV Shows, TV Act...</td>\n",
       "      <td>To protect his family from a powerful drug lor...</td>\n",
       "    </tr>\n",
       "    <tr>\n",
       "      <th>3</th>\n",
       "      <td>s4</td>\n",
       "      <td>TV Show</td>\n",
       "      <td>Jailbirds New Orleans</td>\n",
       "      <td>No Data</td>\n",
       "      <td>No Data</td>\n",
       "      <td>NaN</td>\n",
       "      <td>September 24, 2021</td>\n",
       "      <td>2021</td>\n",
       "      <td>TV-MA</td>\n",
       "      <td>1 Season</td>\n",
       "      <td>Docuseries, Reality TV</td>\n",
       "      <td>Feuds, flirtations and toilet talk go down amo...</td>\n",
       "    </tr>\n",
       "    <tr>\n",
       "      <th>4</th>\n",
       "      <td>s5</td>\n",
       "      <td>TV Show</td>\n",
       "      <td>Kota Factory</td>\n",
       "      <td>No Data</td>\n",
       "      <td>Mayur More, Jitendra Kumar, Ranjan Raj, Alam K...</td>\n",
       "      <td>India</td>\n",
       "      <td>September 24, 2021</td>\n",
       "      <td>2021</td>\n",
       "      <td>TV-MA</td>\n",
       "      <td>2 Seasons</td>\n",
       "      <td>International TV Shows, Romantic TV Shows, TV ...</td>\n",
       "      <td>In a city of coaching centers known to train I...</td>\n",
       "    </tr>\n",
       "  </tbody>\n",
       "</table>\n",
       "</div>"
      ],
      "text/plain": [
       "  show_id     type                  title         director  \\\n",
       "0      s1    Movie   Dick Johnson Is Dead  Kirsten Johnson   \n",
       "1      s2  TV Show          Blood & Water          No Data   \n",
       "2      s3  TV Show              Ganglands  Julien Leclercq   \n",
       "3      s4  TV Show  Jailbirds New Orleans          No Data   \n",
       "4      s5  TV Show           Kota Factory          No Data   \n",
       "\n",
       "                                                cast        country  \\\n",
       "0                                            No Data  United States   \n",
       "1  Ama Qamata, Khosi Ngema, Gail Mabalane, Thaban...   South Africa   \n",
       "2  Sami Bouajila, Tracy Gotoas, Samuel Jouy, Nabi...            NaN   \n",
       "3                                            No Data            NaN   \n",
       "4  Mayur More, Jitendra Kumar, Ranjan Raj, Alam K...          India   \n",
       "\n",
       "           date_added  release_year rating   duration  \\\n",
       "0  September 25, 2021          2020  PG-13     90 min   \n",
       "1  September 24, 2021          2021  TV-MA  2 Seasons   \n",
       "2  September 24, 2021          2021  TV-MA   1 Season   \n",
       "3  September 24, 2021          2021  TV-MA   1 Season   \n",
       "4  September 24, 2021          2021  TV-MA  2 Seasons   \n",
       "\n",
       "                                           listed_in  \\\n",
       "0                                      Documentaries   \n",
       "1    International TV Shows, TV Dramas, TV Mysteries   \n",
       "2  Crime TV Shows, International TV Shows, TV Act...   \n",
       "3                             Docuseries, Reality TV   \n",
       "4  International TV Shows, Romantic TV Shows, TV ...   \n",
       "\n",
       "                                         description  \n",
       "0  As her father nears the end of his life, filmm...  \n",
       "1  After crossing paths at a party, a Cape Town t...  \n",
       "2  To protect his family from a powerful drug lor...  \n",
       "3  Feuds, flirtations and toilet talk go down amo...  \n",
       "4  In a city of coaching centers known to train I...  "
      ]
     },
     "execution_count": 11,
     "metadata": {},
     "output_type": "execute_result"
    }
   ],
   "source": [
    "df.head()"
   ]
  },
  {
   "cell_type": "markdown",
   "id": "45838140",
   "metadata": {},
   "source": [
    "### For the country column we can replace the NaN values with the mode of the values"
   ]
  },
  {
   "cell_type": "code",
   "execution_count": 12,
   "id": "3b0973d5",
   "metadata": {},
   "outputs": [],
   "source": [
    "df['country'] = df['country'].fillna(df['country'].mode()[0])"
   ]
  },
  {
   "cell_type": "markdown",
   "id": "413777dd",
   "metadata": {},
   "source": [
    "#### Duration only has about 4 missing values we can replace the NaN values with a string indicating that the data isn't available"
   ]
  },
  {
   "cell_type": "code",
   "execution_count": 13,
   "id": "45cd45ee",
   "metadata": {},
   "outputs": [],
   "source": [
    "df['duration'].replace(np.nan, 'No Data', inplace=True)"
   ]
  },
  {
   "cell_type": "code",
   "execution_count": 14,
   "id": "c6684c5e",
   "metadata": {},
   "outputs": [
    {
     "data": {
      "text/plain": [
       "show_id          0\n",
       "type             0\n",
       "title            0\n",
       "director         0\n",
       "cast             0\n",
       "country          0\n",
       "date_added      10\n",
       "release_year     0\n",
       "rating           4\n",
       "duration         0\n",
       "listed_in        0\n",
       "description      0\n",
       "dtype: int64"
      ]
     },
     "execution_count": 14,
     "metadata": {},
     "output_type": "execute_result"
    }
   ],
   "source": [
    "df.isnull().sum()"
   ]
  },
  {
   "cell_type": "markdown",
   "id": "287f384e",
   "metadata": {},
   "source": [
    "#### We can see that only release_year and date_added have some missing values. We can replace the NaN values in rating with a string \"No Data\" and date_added column with the mode value"
   ]
  },
  {
   "cell_type": "code",
   "execution_count": 15,
   "id": "2b81fe22",
   "metadata": {},
   "outputs": [],
   "source": [
    "df['rating'].replace(np.nan,'No Data', inplace=True)\n",
    "df['date_added'].replace(np.nan,df['date_added'].mode()[0], inplace=True)"
   ]
  },
  {
   "cell_type": "code",
   "execution_count": 16,
   "id": "67fc97fc",
   "metadata": {},
   "outputs": [
    {
     "data": {
      "text/html": [
       "<div>\n",
       "<style scoped>\n",
       "    .dataframe tbody tr th:only-of-type {\n",
       "        vertical-align: middle;\n",
       "    }\n",
       "\n",
       "    .dataframe tbody tr th {\n",
       "        vertical-align: top;\n",
       "    }\n",
       "\n",
       "    .dataframe thead th {\n",
       "        text-align: right;\n",
       "    }\n",
       "</style>\n",
       "<table border=\"1\" class=\"dataframe\">\n",
       "  <thead>\n",
       "    <tr style=\"text-align: right;\">\n",
       "      <th></th>\n",
       "      <th>release_year</th>\n",
       "    </tr>\n",
       "  </thead>\n",
       "  <tbody>\n",
       "    <tr>\n",
       "      <th>count</th>\n",
       "      <td>8807.000000</td>\n",
       "    </tr>\n",
       "    <tr>\n",
       "      <th>mean</th>\n",
       "      <td>2014.180198</td>\n",
       "    </tr>\n",
       "    <tr>\n",
       "      <th>std</th>\n",
       "      <td>8.819312</td>\n",
       "    </tr>\n",
       "    <tr>\n",
       "      <th>min</th>\n",
       "      <td>1925.000000</td>\n",
       "    </tr>\n",
       "    <tr>\n",
       "      <th>25%</th>\n",
       "      <td>2013.000000</td>\n",
       "    </tr>\n",
       "    <tr>\n",
       "      <th>50%</th>\n",
       "      <td>2017.000000</td>\n",
       "    </tr>\n",
       "    <tr>\n",
       "      <th>75%</th>\n",
       "      <td>2019.000000</td>\n",
       "    </tr>\n",
       "    <tr>\n",
       "      <th>max</th>\n",
       "      <td>2021.000000</td>\n",
       "    </tr>\n",
       "  </tbody>\n",
       "</table>\n",
       "</div>"
      ],
      "text/plain": [
       "       release_year\n",
       "count   8807.000000\n",
       "mean    2014.180198\n",
       "std        8.819312\n",
       "min     1925.000000\n",
       "25%     2013.000000\n",
       "50%     2017.000000\n",
       "75%     2019.000000\n",
       "max     2021.000000"
      ]
     },
     "execution_count": 16,
     "metadata": {},
     "output_type": "execute_result"
    }
   ],
   "source": [
    "df.describe()"
   ]
  },
  {
   "cell_type": "code",
   "execution_count": 17,
   "id": "2fe062c3",
   "metadata": {},
   "outputs": [
    {
     "data": {
      "text/plain": [
       "show_id         0\n",
       "type            0\n",
       "title           0\n",
       "director        0\n",
       "cast            0\n",
       "country         0\n",
       "date_added      0\n",
       "release_year    0\n",
       "rating          0\n",
       "duration        0\n",
       "listed_in       0\n",
       "description     0\n",
       "dtype: int64"
      ]
     },
     "execution_count": 17,
     "metadata": {},
     "output_type": "execute_result"
    }
   ],
   "source": [
    "df.isnull().sum()"
   ]
  },
  {
   "cell_type": "markdown",
   "id": "122cc7fa",
   "metadata": {},
   "source": [
    "### From the about cell we can see that all the NaN values have been treated"
   ]
  },
  {
   "cell_type": "markdown",
   "id": "8952d8c9",
   "metadata": {},
   "source": [
    "### Now lets fix the nested values in the cast, listed_in, director and country column"
   ]
  },
  {
   "cell_type": "code",
   "execution_count": 18,
   "id": "73aadf2a",
   "metadata": {},
   "outputs": [],
   "source": [
    "df_cast = df['cast'].str.split(',', expand=True).stack()\n",
    "df_cast = df_cast.reset_index(level=1, drop=True).to_frame('cast')\n",
    "df_cast['show_id'] = df['show_id']"
   ]
  },
  {
   "cell_type": "code",
   "execution_count": 19,
   "id": "e9fe7dc0",
   "metadata": {},
   "outputs": [
    {
     "data": {
      "text/html": [
       "<div>\n",
       "<style scoped>\n",
       "    .dataframe tbody tr th:only-of-type {\n",
       "        vertical-align: middle;\n",
       "    }\n",
       "\n",
       "    .dataframe tbody tr th {\n",
       "        vertical-align: top;\n",
       "    }\n",
       "\n",
       "    .dataframe thead th {\n",
       "        text-align: right;\n",
       "    }\n",
       "</style>\n",
       "<table border=\"1\" class=\"dataframe\">\n",
       "  <thead>\n",
       "    <tr style=\"text-align: right;\">\n",
       "      <th></th>\n",
       "      <th>cast</th>\n",
       "      <th>show_id</th>\n",
       "    </tr>\n",
       "  </thead>\n",
       "  <tbody>\n",
       "    <tr>\n",
       "      <th>0</th>\n",
       "      <td>No Data</td>\n",
       "      <td>s1</td>\n",
       "    </tr>\n",
       "    <tr>\n",
       "      <th>1</th>\n",
       "      <td>Ama Qamata</td>\n",
       "      <td>s2</td>\n",
       "    </tr>\n",
       "    <tr>\n",
       "      <th>1</th>\n",
       "      <td>Khosi Ngema</td>\n",
       "      <td>s2</td>\n",
       "    </tr>\n",
       "    <tr>\n",
       "      <th>1</th>\n",
       "      <td>Gail Mabalane</td>\n",
       "      <td>s2</td>\n",
       "    </tr>\n",
       "    <tr>\n",
       "      <th>1</th>\n",
       "      <td>Thabang Molaba</td>\n",
       "      <td>s2</td>\n",
       "    </tr>\n",
       "    <tr>\n",
       "      <th>1</th>\n",
       "      <td>Dillon Windvogel</td>\n",
       "      <td>s2</td>\n",
       "    </tr>\n",
       "    <tr>\n",
       "      <th>1</th>\n",
       "      <td>Natasha Thahane</td>\n",
       "      <td>s2</td>\n",
       "    </tr>\n",
       "    <tr>\n",
       "      <th>1</th>\n",
       "      <td>Arno Greeff</td>\n",
       "      <td>s2</td>\n",
       "    </tr>\n",
       "    <tr>\n",
       "      <th>1</th>\n",
       "      <td>Xolile Tshabalala</td>\n",
       "      <td>s2</td>\n",
       "    </tr>\n",
       "    <tr>\n",
       "      <th>1</th>\n",
       "      <td>Getmore Sithole</td>\n",
       "      <td>s2</td>\n",
       "    </tr>\n",
       "  </tbody>\n",
       "</table>\n",
       "</div>"
      ],
      "text/plain": [
       "                 cast show_id\n",
       "0             No Data      s1\n",
       "1          Ama Qamata      s2\n",
       "1         Khosi Ngema      s2\n",
       "1       Gail Mabalane      s2\n",
       "1      Thabang Molaba      s2\n",
       "1    Dillon Windvogel      s2\n",
       "1     Natasha Thahane      s2\n",
       "1         Arno Greeff      s2\n",
       "1   Xolile Tshabalala      s2\n",
       "1     Getmore Sithole      s2"
      ]
     },
     "execution_count": 19,
     "metadata": {},
     "output_type": "execute_result"
    }
   ],
   "source": [
    "df_cast.head(10)"
   ]
  },
  {
   "cell_type": "code",
   "execution_count": 20,
   "id": "41f7512f",
   "metadata": {},
   "outputs": [],
   "source": [
    "df_listed_in = df['listed_in'].str.split(',', expand=True).stack()\n",
    "df_listed_in = df_listed_in.reset_index(level=1, drop=True).to_frame('listed_in')\n",
    "df_listed_in['show_id'] = df['show_id']"
   ]
  },
  {
   "cell_type": "code",
   "execution_count": 21,
   "id": "79dd610d",
   "metadata": {},
   "outputs": [
    {
     "data": {
      "text/html": [
       "<div>\n",
       "<style scoped>\n",
       "    .dataframe tbody tr th:only-of-type {\n",
       "        vertical-align: middle;\n",
       "    }\n",
       "\n",
       "    .dataframe tbody tr th {\n",
       "        vertical-align: top;\n",
       "    }\n",
       "\n",
       "    .dataframe thead th {\n",
       "        text-align: right;\n",
       "    }\n",
       "</style>\n",
       "<table border=\"1\" class=\"dataframe\">\n",
       "  <thead>\n",
       "    <tr style=\"text-align: right;\">\n",
       "      <th></th>\n",
       "      <th>listed_in</th>\n",
       "      <th>show_id</th>\n",
       "    </tr>\n",
       "  </thead>\n",
       "  <tbody>\n",
       "    <tr>\n",
       "      <th>0</th>\n",
       "      <td>Documentaries</td>\n",
       "      <td>s1</td>\n",
       "    </tr>\n",
       "    <tr>\n",
       "      <th>1</th>\n",
       "      <td>International TV Shows</td>\n",
       "      <td>s2</td>\n",
       "    </tr>\n",
       "    <tr>\n",
       "      <th>1</th>\n",
       "      <td>TV Dramas</td>\n",
       "      <td>s2</td>\n",
       "    </tr>\n",
       "    <tr>\n",
       "      <th>1</th>\n",
       "      <td>TV Mysteries</td>\n",
       "      <td>s2</td>\n",
       "    </tr>\n",
       "    <tr>\n",
       "      <th>2</th>\n",
       "      <td>Crime TV Shows</td>\n",
       "      <td>s3</td>\n",
       "    </tr>\n",
       "    <tr>\n",
       "      <th>2</th>\n",
       "      <td>International TV Shows</td>\n",
       "      <td>s3</td>\n",
       "    </tr>\n",
       "    <tr>\n",
       "      <th>2</th>\n",
       "      <td>TV Action &amp; Adventure</td>\n",
       "      <td>s3</td>\n",
       "    </tr>\n",
       "    <tr>\n",
       "      <th>3</th>\n",
       "      <td>Docuseries</td>\n",
       "      <td>s4</td>\n",
       "    </tr>\n",
       "    <tr>\n",
       "      <th>3</th>\n",
       "      <td>Reality TV</td>\n",
       "      <td>s4</td>\n",
       "    </tr>\n",
       "    <tr>\n",
       "      <th>4</th>\n",
       "      <td>International TV Shows</td>\n",
       "      <td>s5</td>\n",
       "    </tr>\n",
       "  </tbody>\n",
       "</table>\n",
       "</div>"
      ],
      "text/plain": [
       "                 listed_in show_id\n",
       "0            Documentaries      s1\n",
       "1   International TV Shows      s2\n",
       "1                TV Dramas      s2\n",
       "1             TV Mysteries      s2\n",
       "2           Crime TV Shows      s3\n",
       "2   International TV Shows      s3\n",
       "2    TV Action & Adventure      s3\n",
       "3               Docuseries      s4\n",
       "3               Reality TV      s4\n",
       "4   International TV Shows      s5"
      ]
     },
     "execution_count": 21,
     "metadata": {},
     "output_type": "execute_result"
    }
   ],
   "source": [
    "df_listed_in.head(10)"
   ]
  },
  {
   "cell_type": "code",
   "execution_count": 22,
   "id": "579b404f",
   "metadata": {},
   "outputs": [],
   "source": [
    "df_director = df['director'].str.split(',', expand=True).stack()\n",
    "df_director = df_director.reset_index(level=1, drop=True).to_frame('director')\n",
    "df_director['show_id'] = df['show_id']"
   ]
  },
  {
   "cell_type": "code",
   "execution_count": 23,
   "id": "ca1dd3a8",
   "metadata": {},
   "outputs": [
    {
     "data": {
      "text/html": [
       "<div>\n",
       "<style scoped>\n",
       "    .dataframe tbody tr th:only-of-type {\n",
       "        vertical-align: middle;\n",
       "    }\n",
       "\n",
       "    .dataframe tbody tr th {\n",
       "        vertical-align: top;\n",
       "    }\n",
       "\n",
       "    .dataframe thead th {\n",
       "        text-align: right;\n",
       "    }\n",
       "</style>\n",
       "<table border=\"1\" class=\"dataframe\">\n",
       "  <thead>\n",
       "    <tr style=\"text-align: right;\">\n",
       "      <th></th>\n",
       "      <th>director</th>\n",
       "      <th>show_id</th>\n",
       "    </tr>\n",
       "  </thead>\n",
       "  <tbody>\n",
       "    <tr>\n",
       "      <th>0</th>\n",
       "      <td>Kirsten Johnson</td>\n",
       "      <td>s1</td>\n",
       "    </tr>\n",
       "    <tr>\n",
       "      <th>1</th>\n",
       "      <td>No Data</td>\n",
       "      <td>s2</td>\n",
       "    </tr>\n",
       "    <tr>\n",
       "      <th>2</th>\n",
       "      <td>Julien Leclercq</td>\n",
       "      <td>s3</td>\n",
       "    </tr>\n",
       "    <tr>\n",
       "      <th>3</th>\n",
       "      <td>No Data</td>\n",
       "      <td>s4</td>\n",
       "    </tr>\n",
       "    <tr>\n",
       "      <th>4</th>\n",
       "      <td>No Data</td>\n",
       "      <td>s5</td>\n",
       "    </tr>\n",
       "    <tr>\n",
       "      <th>5</th>\n",
       "      <td>Mike Flanagan</td>\n",
       "      <td>s6</td>\n",
       "    </tr>\n",
       "    <tr>\n",
       "      <th>6</th>\n",
       "      <td>Robert Cullen</td>\n",
       "      <td>s7</td>\n",
       "    </tr>\n",
       "    <tr>\n",
       "      <th>6</th>\n",
       "      <td>JosÃ© Luis Ucha</td>\n",
       "      <td>s7</td>\n",
       "    </tr>\n",
       "    <tr>\n",
       "      <th>7</th>\n",
       "      <td>Haile Gerima</td>\n",
       "      <td>s8</td>\n",
       "    </tr>\n",
       "    <tr>\n",
       "      <th>8</th>\n",
       "      <td>Andy Devonshire</td>\n",
       "      <td>s9</td>\n",
       "    </tr>\n",
       "  </tbody>\n",
       "</table>\n",
       "</div>"
      ],
      "text/plain": [
       "           director show_id\n",
       "0   Kirsten Johnson      s1\n",
       "1           No Data      s2\n",
       "2   Julien Leclercq      s3\n",
       "3           No Data      s4\n",
       "4           No Data      s5\n",
       "5     Mike Flanagan      s6\n",
       "6     Robert Cullen      s7\n",
       "6   JosÃ© Luis Ucha      s7\n",
       "7      Haile Gerima      s8\n",
       "8   Andy Devonshire      s9"
      ]
     },
     "execution_count": 23,
     "metadata": {},
     "output_type": "execute_result"
    }
   ],
   "source": [
    "df_director.head(10)"
   ]
  },
  {
   "cell_type": "code",
   "execution_count": 24,
   "id": "2ccb6be4",
   "metadata": {},
   "outputs": [],
   "source": [
    "df_country = df['country'].str.split(',', expand=True).stack()\n",
    "df_country = df_country.reset_index(level=1, drop=True).to_frame('country')\n",
    "df_country['show_id'] = df['show_id']"
   ]
  },
  {
   "cell_type": "code",
   "execution_count": 25,
   "id": "8f64b74d",
   "metadata": {},
   "outputs": [
    {
     "data": {
      "text/html": [
       "<div>\n",
       "<style scoped>\n",
       "    .dataframe tbody tr th:only-of-type {\n",
       "        vertical-align: middle;\n",
       "    }\n",
       "\n",
       "    .dataframe tbody tr th {\n",
       "        vertical-align: top;\n",
       "    }\n",
       "\n",
       "    .dataframe thead th {\n",
       "        text-align: right;\n",
       "    }\n",
       "</style>\n",
       "<table border=\"1\" class=\"dataframe\">\n",
       "  <thead>\n",
       "    <tr style=\"text-align: right;\">\n",
       "      <th></th>\n",
       "      <th>country</th>\n",
       "      <th>show_id</th>\n",
       "    </tr>\n",
       "  </thead>\n",
       "  <tbody>\n",
       "    <tr>\n",
       "      <th>0</th>\n",
       "      <td>United States</td>\n",
       "      <td>s1</td>\n",
       "    </tr>\n",
       "    <tr>\n",
       "      <th>1</th>\n",
       "      <td>South Africa</td>\n",
       "      <td>s2</td>\n",
       "    </tr>\n",
       "    <tr>\n",
       "      <th>2</th>\n",
       "      <td>United States</td>\n",
       "      <td>s3</td>\n",
       "    </tr>\n",
       "    <tr>\n",
       "      <th>3</th>\n",
       "      <td>United States</td>\n",
       "      <td>s4</td>\n",
       "    </tr>\n",
       "    <tr>\n",
       "      <th>4</th>\n",
       "      <td>India</td>\n",
       "      <td>s5</td>\n",
       "    </tr>\n",
       "    <tr>\n",
       "      <th>5</th>\n",
       "      <td>United States</td>\n",
       "      <td>s6</td>\n",
       "    </tr>\n",
       "    <tr>\n",
       "      <th>6</th>\n",
       "      <td>United States</td>\n",
       "      <td>s7</td>\n",
       "    </tr>\n",
       "    <tr>\n",
       "      <th>7</th>\n",
       "      <td>United States</td>\n",
       "      <td>s8</td>\n",
       "    </tr>\n",
       "    <tr>\n",
       "      <th>7</th>\n",
       "      <td>Ghana</td>\n",
       "      <td>s8</td>\n",
       "    </tr>\n",
       "    <tr>\n",
       "      <th>7</th>\n",
       "      <td>Burkina Faso</td>\n",
       "      <td>s8</td>\n",
       "    </tr>\n",
       "  </tbody>\n",
       "</table>\n",
       "</div>"
      ],
      "text/plain": [
       "         country show_id\n",
       "0  United States      s1\n",
       "1   South Africa      s2\n",
       "2  United States      s3\n",
       "3  United States      s4\n",
       "4          India      s5\n",
       "5  United States      s6\n",
       "6  United States      s7\n",
       "7  United States      s8\n",
       "7          Ghana      s8\n",
       "7   Burkina Faso      s8"
      ]
     },
     "execution_count": 25,
     "metadata": {},
     "output_type": "execute_result"
    }
   ],
   "source": [
    "df_country.head(10)"
   ]
  },
  {
   "cell_type": "markdown",
   "id": "998b19fb",
   "metadata": {},
   "source": [
    "### Let's now bring it back to the original data frame"
   ]
  },
  {
   "cell_type": "code",
   "execution_count": 26,
   "id": "cd889065",
   "metadata": {},
   "outputs": [],
   "source": [
    "columns_to_drop = ['cast', 'director', 'country','listed_in']"
   ]
  },
  {
   "cell_type": "code",
   "execution_count": 27,
   "id": "3a8a3ed6",
   "metadata": {},
   "outputs": [],
   "source": [
    "df = df.drop(columns=columns_to_drop)"
   ]
  },
  {
   "cell_type": "code",
   "execution_count": 28,
   "id": "a9cd83a1",
   "metadata": {},
   "outputs": [
    {
     "data": {
      "text/html": [
       "<div>\n",
       "<style scoped>\n",
       "    .dataframe tbody tr th:only-of-type {\n",
       "        vertical-align: middle;\n",
       "    }\n",
       "\n",
       "    .dataframe tbody tr th {\n",
       "        vertical-align: top;\n",
       "    }\n",
       "\n",
       "    .dataframe thead th {\n",
       "        text-align: right;\n",
       "    }\n",
       "</style>\n",
       "<table border=\"1\" class=\"dataframe\">\n",
       "  <thead>\n",
       "    <tr style=\"text-align: right;\">\n",
       "      <th></th>\n",
       "      <th>show_id</th>\n",
       "      <th>type</th>\n",
       "      <th>title</th>\n",
       "      <th>date_added</th>\n",
       "      <th>release_year</th>\n",
       "      <th>rating</th>\n",
       "      <th>duration</th>\n",
       "      <th>description</th>\n",
       "    </tr>\n",
       "  </thead>\n",
       "  <tbody>\n",
       "    <tr>\n",
       "      <th>0</th>\n",
       "      <td>s1</td>\n",
       "      <td>Movie</td>\n",
       "      <td>Dick Johnson Is Dead</td>\n",
       "      <td>September 25, 2021</td>\n",
       "      <td>2020</td>\n",
       "      <td>PG-13</td>\n",
       "      <td>90 min</td>\n",
       "      <td>As her father nears the end of his life, filmm...</td>\n",
       "    </tr>\n",
       "    <tr>\n",
       "      <th>1</th>\n",
       "      <td>s2</td>\n",
       "      <td>TV Show</td>\n",
       "      <td>Blood &amp; Water</td>\n",
       "      <td>September 24, 2021</td>\n",
       "      <td>2021</td>\n",
       "      <td>TV-MA</td>\n",
       "      <td>2 Seasons</td>\n",
       "      <td>After crossing paths at a party, a Cape Town t...</td>\n",
       "    </tr>\n",
       "    <tr>\n",
       "      <th>2</th>\n",
       "      <td>s3</td>\n",
       "      <td>TV Show</td>\n",
       "      <td>Ganglands</td>\n",
       "      <td>September 24, 2021</td>\n",
       "      <td>2021</td>\n",
       "      <td>TV-MA</td>\n",
       "      <td>1 Season</td>\n",
       "      <td>To protect his family from a powerful drug lor...</td>\n",
       "    </tr>\n",
       "    <tr>\n",
       "      <th>3</th>\n",
       "      <td>s4</td>\n",
       "      <td>TV Show</td>\n",
       "      <td>Jailbirds New Orleans</td>\n",
       "      <td>September 24, 2021</td>\n",
       "      <td>2021</td>\n",
       "      <td>TV-MA</td>\n",
       "      <td>1 Season</td>\n",
       "      <td>Feuds, flirtations and toilet talk go down amo...</td>\n",
       "    </tr>\n",
       "    <tr>\n",
       "      <th>4</th>\n",
       "      <td>s5</td>\n",
       "      <td>TV Show</td>\n",
       "      <td>Kota Factory</td>\n",
       "      <td>September 24, 2021</td>\n",
       "      <td>2021</td>\n",
       "      <td>TV-MA</td>\n",
       "      <td>2 Seasons</td>\n",
       "      <td>In a city of coaching centers known to train I...</td>\n",
       "    </tr>\n",
       "  </tbody>\n",
       "</table>\n",
       "</div>"
      ],
      "text/plain": [
       "  show_id     type                  title          date_added  release_year  \\\n",
       "0      s1    Movie   Dick Johnson Is Dead  September 25, 2021          2020   \n",
       "1      s2  TV Show          Blood & Water  September 24, 2021          2021   \n",
       "2      s3  TV Show              Ganglands  September 24, 2021          2021   \n",
       "3      s4  TV Show  Jailbirds New Orleans  September 24, 2021          2021   \n",
       "4      s5  TV Show           Kota Factory  September 24, 2021          2021   \n",
       "\n",
       "  rating   duration                                        description  \n",
       "0  PG-13     90 min  As her father nears the end of his life, filmm...  \n",
       "1  TV-MA  2 Seasons  After crossing paths at a party, a Cape Town t...  \n",
       "2  TV-MA   1 Season  To protect his family from a powerful drug lor...  \n",
       "3  TV-MA   1 Season  Feuds, flirtations and toilet talk go down amo...  \n",
       "4  TV-MA  2 Seasons  In a city of coaching centers known to train I...  "
      ]
     },
     "execution_count": 28,
     "metadata": {},
     "output_type": "execute_result"
    }
   ],
   "source": [
    "df.head()"
   ]
  },
  {
   "cell_type": "code",
   "execution_count": 29,
   "id": "57c503e3",
   "metadata": {},
   "outputs": [
    {
     "data": {
      "text/html": [
       "<div>\n",
       "<style scoped>\n",
       "    .dataframe tbody tr th:only-of-type {\n",
       "        vertical-align: middle;\n",
       "    }\n",
       "\n",
       "    .dataframe tbody tr th {\n",
       "        vertical-align: top;\n",
       "    }\n",
       "\n",
       "    .dataframe thead th {\n",
       "        text-align: right;\n",
       "    }\n",
       "</style>\n",
       "<table border=\"1\" class=\"dataframe\">\n",
       "  <thead>\n",
       "    <tr style=\"text-align: right;\">\n",
       "      <th></th>\n",
       "      <th>show_id</th>\n",
       "      <th>type</th>\n",
       "      <th>title</th>\n",
       "      <th>date_added</th>\n",
       "      <th>release_year</th>\n",
       "      <th>rating</th>\n",
       "      <th>duration</th>\n",
       "      <th>description</th>\n",
       "      <th>cast</th>\n",
       "    </tr>\n",
       "  </thead>\n",
       "  <tbody>\n",
       "    <tr>\n",
       "      <th>0</th>\n",
       "      <td>s1</td>\n",
       "      <td>Movie</td>\n",
       "      <td>Dick Johnson Is Dead</td>\n",
       "      <td>September 25, 2021</td>\n",
       "      <td>2020</td>\n",
       "      <td>PG-13</td>\n",
       "      <td>90 min</td>\n",
       "      <td>As her father nears the end of his life, filmm...</td>\n",
       "      <td>No Data</td>\n",
       "    </tr>\n",
       "    <tr>\n",
       "      <th>1</th>\n",
       "      <td>s2</td>\n",
       "      <td>TV Show</td>\n",
       "      <td>Blood &amp; Water</td>\n",
       "      <td>September 24, 2021</td>\n",
       "      <td>2021</td>\n",
       "      <td>TV-MA</td>\n",
       "      <td>2 Seasons</td>\n",
       "      <td>After crossing paths at a party, a Cape Town t...</td>\n",
       "      <td>Ama Qamata</td>\n",
       "    </tr>\n",
       "    <tr>\n",
       "      <th>2</th>\n",
       "      <td>s2</td>\n",
       "      <td>TV Show</td>\n",
       "      <td>Blood &amp; Water</td>\n",
       "      <td>September 24, 2021</td>\n",
       "      <td>2021</td>\n",
       "      <td>TV-MA</td>\n",
       "      <td>2 Seasons</td>\n",
       "      <td>After crossing paths at a party, a Cape Town t...</td>\n",
       "      <td>Khosi Ngema</td>\n",
       "    </tr>\n",
       "    <tr>\n",
       "      <th>3</th>\n",
       "      <td>s2</td>\n",
       "      <td>TV Show</td>\n",
       "      <td>Blood &amp; Water</td>\n",
       "      <td>September 24, 2021</td>\n",
       "      <td>2021</td>\n",
       "      <td>TV-MA</td>\n",
       "      <td>2 Seasons</td>\n",
       "      <td>After crossing paths at a party, a Cape Town t...</td>\n",
       "      <td>Gail Mabalane</td>\n",
       "    </tr>\n",
       "    <tr>\n",
       "      <th>4</th>\n",
       "      <td>s2</td>\n",
       "      <td>TV Show</td>\n",
       "      <td>Blood &amp; Water</td>\n",
       "      <td>September 24, 2021</td>\n",
       "      <td>2021</td>\n",
       "      <td>TV-MA</td>\n",
       "      <td>2 Seasons</td>\n",
       "      <td>After crossing paths at a party, a Cape Town t...</td>\n",
       "      <td>Thabang Molaba</td>\n",
       "    </tr>\n",
       "  </tbody>\n",
       "</table>\n",
       "</div>"
      ],
      "text/plain": [
       "  show_id     type                 title          date_added  release_year  \\\n",
       "0      s1    Movie  Dick Johnson Is Dead  September 25, 2021          2020   \n",
       "1      s2  TV Show         Blood & Water  September 24, 2021          2021   \n",
       "2      s2  TV Show         Blood & Water  September 24, 2021          2021   \n",
       "3      s2  TV Show         Blood & Water  September 24, 2021          2021   \n",
       "4      s2  TV Show         Blood & Water  September 24, 2021          2021   \n",
       "\n",
       "  rating   duration                                        description  \\\n",
       "0  PG-13     90 min  As her father nears the end of his life, filmm...   \n",
       "1  TV-MA  2 Seasons  After crossing paths at a party, a Cape Town t...   \n",
       "2  TV-MA  2 Seasons  After crossing paths at a party, a Cape Town t...   \n",
       "3  TV-MA  2 Seasons  After crossing paths at a party, a Cape Town t...   \n",
       "4  TV-MA  2 Seasons  After crossing paths at a party, a Cape Town t...   \n",
       "\n",
       "              cast  \n",
       "0          No Data  \n",
       "1       Ama Qamata  \n",
       "2      Khosi Ngema  \n",
       "3    Gail Mabalane  \n",
       "4   Thabang Molaba  "
      ]
     },
     "execution_count": 29,
     "metadata": {},
     "output_type": "execute_result"
    }
   ],
   "source": [
    "df = df.merge(df_cast, on='show_id', how='left')\n",
    "df.head()"
   ]
  },
  {
   "cell_type": "code",
   "execution_count": 30,
   "id": "ef9352ff",
   "metadata": {},
   "outputs": [
    {
     "data": {
      "text/html": [
       "<div>\n",
       "<style scoped>\n",
       "    .dataframe tbody tr th:only-of-type {\n",
       "        vertical-align: middle;\n",
       "    }\n",
       "\n",
       "    .dataframe tbody tr th {\n",
       "        vertical-align: top;\n",
       "    }\n",
       "\n",
       "    .dataframe thead th {\n",
       "        text-align: right;\n",
       "    }\n",
       "</style>\n",
       "<table border=\"1\" class=\"dataframe\">\n",
       "  <thead>\n",
       "    <tr style=\"text-align: right;\">\n",
       "      <th></th>\n",
       "      <th>show_id</th>\n",
       "      <th>type</th>\n",
       "      <th>title</th>\n",
       "      <th>date_added</th>\n",
       "      <th>release_year</th>\n",
       "      <th>rating</th>\n",
       "      <th>duration</th>\n",
       "      <th>description</th>\n",
       "      <th>cast</th>\n",
       "      <th>director</th>\n",
       "    </tr>\n",
       "  </thead>\n",
       "  <tbody>\n",
       "    <tr>\n",
       "      <th>0</th>\n",
       "      <td>s1</td>\n",
       "      <td>Movie</td>\n",
       "      <td>Dick Johnson Is Dead</td>\n",
       "      <td>September 25, 2021</td>\n",
       "      <td>2020</td>\n",
       "      <td>PG-13</td>\n",
       "      <td>90 min</td>\n",
       "      <td>As her father nears the end of his life, filmm...</td>\n",
       "      <td>No Data</td>\n",
       "      <td>Kirsten Johnson</td>\n",
       "    </tr>\n",
       "    <tr>\n",
       "      <th>1</th>\n",
       "      <td>s2</td>\n",
       "      <td>TV Show</td>\n",
       "      <td>Blood &amp; Water</td>\n",
       "      <td>September 24, 2021</td>\n",
       "      <td>2021</td>\n",
       "      <td>TV-MA</td>\n",
       "      <td>2 Seasons</td>\n",
       "      <td>After crossing paths at a party, a Cape Town t...</td>\n",
       "      <td>Ama Qamata</td>\n",
       "      <td>No Data</td>\n",
       "    </tr>\n",
       "    <tr>\n",
       "      <th>2</th>\n",
       "      <td>s2</td>\n",
       "      <td>TV Show</td>\n",
       "      <td>Blood &amp; Water</td>\n",
       "      <td>September 24, 2021</td>\n",
       "      <td>2021</td>\n",
       "      <td>TV-MA</td>\n",
       "      <td>2 Seasons</td>\n",
       "      <td>After crossing paths at a party, a Cape Town t...</td>\n",
       "      <td>Khosi Ngema</td>\n",
       "      <td>No Data</td>\n",
       "    </tr>\n",
       "    <tr>\n",
       "      <th>3</th>\n",
       "      <td>s2</td>\n",
       "      <td>TV Show</td>\n",
       "      <td>Blood &amp; Water</td>\n",
       "      <td>September 24, 2021</td>\n",
       "      <td>2021</td>\n",
       "      <td>TV-MA</td>\n",
       "      <td>2 Seasons</td>\n",
       "      <td>After crossing paths at a party, a Cape Town t...</td>\n",
       "      <td>Gail Mabalane</td>\n",
       "      <td>No Data</td>\n",
       "    </tr>\n",
       "    <tr>\n",
       "      <th>4</th>\n",
       "      <td>s2</td>\n",
       "      <td>TV Show</td>\n",
       "      <td>Blood &amp; Water</td>\n",
       "      <td>September 24, 2021</td>\n",
       "      <td>2021</td>\n",
       "      <td>TV-MA</td>\n",
       "      <td>2 Seasons</td>\n",
       "      <td>After crossing paths at a party, a Cape Town t...</td>\n",
       "      <td>Thabang Molaba</td>\n",
       "      <td>No Data</td>\n",
       "    </tr>\n",
       "  </tbody>\n",
       "</table>\n",
       "</div>"
      ],
      "text/plain": [
       "  show_id     type                 title          date_added  release_year  \\\n",
       "0      s1    Movie  Dick Johnson Is Dead  September 25, 2021          2020   \n",
       "1      s2  TV Show         Blood & Water  September 24, 2021          2021   \n",
       "2      s2  TV Show         Blood & Water  September 24, 2021          2021   \n",
       "3      s2  TV Show         Blood & Water  September 24, 2021          2021   \n",
       "4      s2  TV Show         Blood & Water  September 24, 2021          2021   \n",
       "\n",
       "  rating   duration                                        description  \\\n",
       "0  PG-13     90 min  As her father nears the end of his life, filmm...   \n",
       "1  TV-MA  2 Seasons  After crossing paths at a party, a Cape Town t...   \n",
       "2  TV-MA  2 Seasons  After crossing paths at a party, a Cape Town t...   \n",
       "3  TV-MA  2 Seasons  After crossing paths at a party, a Cape Town t...   \n",
       "4  TV-MA  2 Seasons  After crossing paths at a party, a Cape Town t...   \n",
       "\n",
       "              cast         director  \n",
       "0          No Data  Kirsten Johnson  \n",
       "1       Ama Qamata          No Data  \n",
       "2      Khosi Ngema          No Data  \n",
       "3    Gail Mabalane          No Data  \n",
       "4   Thabang Molaba          No Data  "
      ]
     },
     "execution_count": 30,
     "metadata": {},
     "output_type": "execute_result"
    }
   ],
   "source": [
    "df = df.merge(df_director, on='show_id', how='left')\n",
    "df.head()"
   ]
  },
  {
   "cell_type": "code",
   "execution_count": 31,
   "id": "21d5dc7e",
   "metadata": {},
   "outputs": [
    {
     "data": {
      "text/html": [
       "<div>\n",
       "<style scoped>\n",
       "    .dataframe tbody tr th:only-of-type {\n",
       "        vertical-align: middle;\n",
       "    }\n",
       "\n",
       "    .dataframe tbody tr th {\n",
       "        vertical-align: top;\n",
       "    }\n",
       "\n",
       "    .dataframe thead th {\n",
       "        text-align: right;\n",
       "    }\n",
       "</style>\n",
       "<table border=\"1\" class=\"dataframe\">\n",
       "  <thead>\n",
       "    <tr style=\"text-align: right;\">\n",
       "      <th></th>\n",
       "      <th>show_id</th>\n",
       "      <th>type</th>\n",
       "      <th>title</th>\n",
       "      <th>date_added</th>\n",
       "      <th>release_year</th>\n",
       "      <th>rating</th>\n",
       "      <th>duration</th>\n",
       "      <th>description</th>\n",
       "      <th>cast</th>\n",
       "      <th>director</th>\n",
       "      <th>listed_in</th>\n",
       "      <th>country</th>\n",
       "    </tr>\n",
       "  </thead>\n",
       "  <tbody>\n",
       "    <tr>\n",
       "      <th>0</th>\n",
       "      <td>s1</td>\n",
       "      <td>Movie</td>\n",
       "      <td>Dick Johnson Is Dead</td>\n",
       "      <td>September 25, 2021</td>\n",
       "      <td>2020</td>\n",
       "      <td>PG-13</td>\n",
       "      <td>90 min</td>\n",
       "      <td>As her father nears the end of his life, filmm...</td>\n",
       "      <td>No Data</td>\n",
       "      <td>Kirsten Johnson</td>\n",
       "      <td>Documentaries</td>\n",
       "      <td>United States</td>\n",
       "    </tr>\n",
       "    <tr>\n",
       "      <th>1</th>\n",
       "      <td>s2</td>\n",
       "      <td>TV Show</td>\n",
       "      <td>Blood &amp; Water</td>\n",
       "      <td>September 24, 2021</td>\n",
       "      <td>2021</td>\n",
       "      <td>TV-MA</td>\n",
       "      <td>2 Seasons</td>\n",
       "      <td>After crossing paths at a party, a Cape Town t...</td>\n",
       "      <td>Ama Qamata</td>\n",
       "      <td>No Data</td>\n",
       "      <td>International TV Shows</td>\n",
       "      <td>South Africa</td>\n",
       "    </tr>\n",
       "    <tr>\n",
       "      <th>2</th>\n",
       "      <td>s2</td>\n",
       "      <td>TV Show</td>\n",
       "      <td>Blood &amp; Water</td>\n",
       "      <td>September 24, 2021</td>\n",
       "      <td>2021</td>\n",
       "      <td>TV-MA</td>\n",
       "      <td>2 Seasons</td>\n",
       "      <td>After crossing paths at a party, a Cape Town t...</td>\n",
       "      <td>Ama Qamata</td>\n",
       "      <td>No Data</td>\n",
       "      <td>TV Dramas</td>\n",
       "      <td>South Africa</td>\n",
       "    </tr>\n",
       "    <tr>\n",
       "      <th>3</th>\n",
       "      <td>s2</td>\n",
       "      <td>TV Show</td>\n",
       "      <td>Blood &amp; Water</td>\n",
       "      <td>September 24, 2021</td>\n",
       "      <td>2021</td>\n",
       "      <td>TV-MA</td>\n",
       "      <td>2 Seasons</td>\n",
       "      <td>After crossing paths at a party, a Cape Town t...</td>\n",
       "      <td>Ama Qamata</td>\n",
       "      <td>No Data</td>\n",
       "      <td>TV Mysteries</td>\n",
       "      <td>South Africa</td>\n",
       "    </tr>\n",
       "    <tr>\n",
       "      <th>4</th>\n",
       "      <td>s2</td>\n",
       "      <td>TV Show</td>\n",
       "      <td>Blood &amp; Water</td>\n",
       "      <td>September 24, 2021</td>\n",
       "      <td>2021</td>\n",
       "      <td>TV-MA</td>\n",
       "      <td>2 Seasons</td>\n",
       "      <td>After crossing paths at a party, a Cape Town t...</td>\n",
       "      <td>Khosi Ngema</td>\n",
       "      <td>No Data</td>\n",
       "      <td>International TV Shows</td>\n",
       "      <td>South Africa</td>\n",
       "    </tr>\n",
       "  </tbody>\n",
       "</table>\n",
       "</div>"
      ],
      "text/plain": [
       "  show_id     type                 title          date_added  release_year  \\\n",
       "0      s1    Movie  Dick Johnson Is Dead  September 25, 2021          2020   \n",
       "1      s2  TV Show         Blood & Water  September 24, 2021          2021   \n",
       "2      s2  TV Show         Blood & Water  September 24, 2021          2021   \n",
       "3      s2  TV Show         Blood & Water  September 24, 2021          2021   \n",
       "4      s2  TV Show         Blood & Water  September 24, 2021          2021   \n",
       "\n",
       "  rating   duration                                        description  \\\n",
       "0  PG-13     90 min  As her father nears the end of his life, filmm...   \n",
       "1  TV-MA  2 Seasons  After crossing paths at a party, a Cape Town t...   \n",
       "2  TV-MA  2 Seasons  After crossing paths at a party, a Cape Town t...   \n",
       "3  TV-MA  2 Seasons  After crossing paths at a party, a Cape Town t...   \n",
       "4  TV-MA  2 Seasons  After crossing paths at a party, a Cape Town t...   \n",
       "\n",
       "           cast         director               listed_in        country  \n",
       "0       No Data  Kirsten Johnson           Documentaries  United States  \n",
       "1    Ama Qamata          No Data  International TV Shows   South Africa  \n",
       "2    Ama Qamata          No Data               TV Dramas   South Africa  \n",
       "3    Ama Qamata          No Data            TV Mysteries   South Africa  \n",
       "4   Khosi Ngema          No Data  International TV Shows   South Africa  "
      ]
     },
     "execution_count": 31,
     "metadata": {},
     "output_type": "execute_result"
    }
   ],
   "source": [
    "df = df.merge(df_listed_in, on='show_id', how='left')\n",
    "df = df.merge(df_country, on='show_id', how='left')\n",
    "df.head()"
   ]
  },
  {
   "cell_type": "markdown",
   "id": "20a430e8",
   "metadata": {},
   "source": [
    "#### We can convert the date_added column to be a date column"
   ]
  },
  {
   "cell_type": "code",
   "execution_count": 32,
   "id": "6ec001ef",
   "metadata": {},
   "outputs": [
    {
     "name": "stdout",
     "output_type": "stream",
     "text": [
      "<class 'pandas.core.frame.DataFrame'>\n",
      "RangeIndex: 202065 entries, 0 to 202064\n",
      "Data columns (total 12 columns):\n",
      " #   Column        Non-Null Count   Dtype \n",
      "---  ------        --------------   ----- \n",
      " 0   show_id       202065 non-null  object\n",
      " 1   type          202065 non-null  object\n",
      " 2   title         202065 non-null  object\n",
      " 3   date_added    202065 non-null  object\n",
      " 4   release_year  202065 non-null  int64 \n",
      " 5   rating        202065 non-null  object\n",
      " 6   duration      202065 non-null  object\n",
      " 7   description   202065 non-null  object\n",
      " 8   cast          202065 non-null  object\n",
      " 9   director      202065 non-null  object\n",
      " 10  listed_in     202065 non-null  object\n",
      " 11  country       202065 non-null  object\n",
      "dtypes: int64(1), object(11)\n",
      "memory usage: 18.5+ MB\n"
     ]
    }
   ],
   "source": [
    "df.info()"
   ]
  },
  {
   "cell_type": "code",
   "execution_count": 33,
   "id": "02696ca0",
   "metadata": {},
   "outputs": [],
   "source": [
    "df[\"date_added\"] = pd.to_datetime(df['date_added'], errors='coerce')"
   ]
  },
  {
   "cell_type": "code",
   "execution_count": 34,
   "id": "6d77522d",
   "metadata": {},
   "outputs": [
    {
     "name": "stdout",
     "output_type": "stream",
     "text": [
      "<class 'pandas.core.frame.DataFrame'>\n",
      "RangeIndex: 202065 entries, 0 to 202064\n",
      "Data columns (total 12 columns):\n",
      " #   Column        Non-Null Count   Dtype         \n",
      "---  ------        --------------   -----         \n",
      " 0   show_id       202065 non-null  object        \n",
      " 1   type          202065 non-null  object        \n",
      " 2   title         202065 non-null  object        \n",
      " 3   date_added    200477 non-null  datetime64[ns]\n",
      " 4   release_year  202065 non-null  int64         \n",
      " 5   rating        202065 non-null  object        \n",
      " 6   duration      202065 non-null  object        \n",
      " 7   description   202065 non-null  object        \n",
      " 8   cast          202065 non-null  object        \n",
      " 9   director      202065 non-null  object        \n",
      " 10  listed_in     202065 non-null  object        \n",
      " 11  country       202065 non-null  object        \n",
      "dtypes: datetime64[ns](1), int64(1), object(10)\n",
      "memory usage: 18.5+ MB\n"
     ]
    }
   ],
   "source": [
    "df.info()"
   ]
  },
  {
   "cell_type": "markdown",
   "id": "942f039b",
   "metadata": {},
   "source": [
    "### Data Visualization"
   ]
  },
  {
   "cell_type": "markdown",
   "id": "31f9a876",
   "metadata": {},
   "source": [
    "### lets Look at how many movies and TV shows we have:"
   ]
  },
  {
   "cell_type": "code",
   "execution_count": 35,
   "id": "18f8d17e",
   "metadata": {},
   "outputs": [
    {
     "data": {
      "image/png": "[encoded data removed]",
      "text/plain": [
       "<Figure size 640x480 with 1 Axes>"
      ]
     },
     "metadata": {},
     "output_type": "display_data"
    }
   ],
   "source": [
    "types = df.type.value_counts()\n",
    "plt.pie(types,  labels=types.index, autopct='%1.1f%%' , colors = ['green' , 'orange'])\n",
    "plt.title('Total_Movies and TV Shows')\n",
    "plt.show()"
   ]
  },
  {
   "cell_type": "markdown",
   "id": "3e6074f1",
   "metadata": {},
   "source": [
    "#### Let's look at the number of movies released on a year to year basis"
   ]
  },
  {
   "cell_type": "code",
   "execution_count": 36,
   "id": "8514caeb",
   "metadata": {},
   "outputs": [
    {
     "data": {
      "image/png": "[encoded data removed]",
      "text/plain": [
       "<Figure size 1200x600 with 1 Axes>"
      ]
     },
     "metadata": {},
     "output_type": "display_data"
    }
   ],
   "source": [
    "movies_df = df[df['type'] == 'Movie']\n",
    "movies_per_year = movies_df.groupby('release_year')['title'].nunique().reset_index(name='count')\n",
    "plt.figure(figsize=(12, 6))\n",
    "\n",
    "\n",
    "sns.barplot(x='release_year', y='count', data=movies_per_year, palette='Spectral')\n",
    "\n",
    "\n",
    "plt.title('Number of Unique Movies Released per Year')\n",
    "plt.xlabel('Release Year')\n",
    "plt.ylabel('Number of Movies')\n",
    "plt.xticks(rotation=45)\n",
    "\n",
    "\n",
    "plt.show()"
   ]
  },
  {
   "cell_type": "markdown",
   "id": "e01b07b2",
   "metadata": {},
   "source": [
    "#### Let's Now look at the number of TV Shows Released on a year to year basis"
   ]
  },
  {
   "cell_type": "code",
   "execution_count": 37,
   "id": "ed5eb824",
   "metadata": {},
   "outputs": [
    {
     "data": {
      "image/png": "[encoded data removed]",
      "text/plain": [
       "<Figure size 1200x600 with 1 Axes>"
      ]
     },
     "metadata": {},
     "output_type": "display_data"
    }
   ],
   "source": [
    "tv_shows_df = df[df['type'] == 'TV Show']\n",
    "\n",
    "tv_shows_per_year = tv_shows_df.groupby('release_year')['title'].nunique().reset_index(name='count')\n",
    "plt.figure(figsize=(12, 6))\n",
    "sns.barplot(x='release_year', y='count', data=tv_shows_per_year, palette='Spectral')\n",
    "plt.title('Number of Unique TV Shows Released per Year')\n",
    "plt.xlabel('Release Year')\n",
    "plt.ylabel('Number of TV Shows')\n",
    "plt.xticks(rotation=45)\n",
    "\n",
    "plt.show()"
   ]
  },
  {
   "cell_type": "markdown",
   "id": "342b8736",
   "metadata": {},
   "source": []
  },
  {
   "cell_type": "code",
   "execution_count": 38,
   "id": "8431b8e7",
   "metadata": {},
   "outputs": [
    {
     "data": {
      "image/png": "[encoded data removed]",
      "text/plain": [
       "<Figure size 1200x600 with 1 Axes>"
      ]
     },
     "metadata": {},
     "output_type": "display_data"
    }
   ],
   "source": [
    "df['added_year'] = df['date_added'].dt.year.astype('Int64') \n",
    "\n",
    "df = df.dropna(subset=['added_year'])\n",
    "\n",
    "unique_titles_counts = df.groupby(pd.cut(df['added_year'], bins=range(min(df['added_year']), max(df['added_year']) + 6, 5)))['title'].nunique()\n",
    "\n",
    "plt.figure(figsize=(12, 6))\n",
    "bar_plot = unique_titles_counts.plot(kind='bar', color='skyblue', edgecolor='black')\n",
    "\n",
    "plt.title('Number of Unique Movies and TV Series Added to Netflix Over 5-Year Intervals')\n",
    "plt.xlabel('Year Added to Netflix (5-Year Intervals)')\n",
    "plt.ylabel('Number of Unique Movies and TV Series')\n",
    "\n",
    "plt.show()"
   ]
  },
  {
   "cell_type": "markdown",
   "id": "34d07ac6",
   "metadata": {},
   "source": [
    "#### In the above visualizations, it is evident that the majority of movies and TV series were added between 2013 and 2021, a trend that aligns with the widespread availability and easy accessibility of the internet during this period. Additionally, people developed a preference for online streaming sites over traditional options. Netflix, in response to the rising demand and revenue, began producing its own shows and movies. This shift in the industry is reflected in the increasing number of movie and TV series releases after 2014, as more production houses recognized the benefits of OTT and started releasing their works on these platforms."
   ]
  },
  {
   "cell_type": "markdown",
   "id": "5f95f54f",
   "metadata": {},
   "source": [
    "### Let's now look at how the length of a movie fared through the years"
   ]
  },
  {
   "cell_type": "code",
   "execution_count": 39,
   "id": "a60460e1",
   "metadata": {},
   "outputs": [
    {
     "data": {
      "image/png": "[encoded data removed]",
      "text/plain": [
       "<Figure size 1200x600 with 1 Axes>"
      ]
     },
     "metadata": {},
     "output_type": "display_data"
    }
   ],
   "source": [
    "df['duration'] = df['duration'].astype(str)\n",
    "df['duration'] = pd.to_numeric(df['duration'].str.extract('(\\d+)', expand=False), errors='coerce')\n",
    "\n",
    "movies_df = df[df['type'] == 'Movie']\n",
    "\n",
    "unique_movies_counts = movies_df.groupby('release_year')['title'].nunique()\n",
    "\n",
    "plt.figure(figsize=(12, 6))\n",
    "bar_plot = sns.barplot(x=unique_movies_counts.index, y=unique_movies_counts.values, palette='Spectral', errorbar=None)\n",
    "\n",
    "plt.title('Number of Unique Movies on Netflix Over the Years')\n",
    "plt.xlabel('Release Year')\n",
    "plt.ylabel('Number of Unique Movies')\n",
    "\n",
    "plt.show()"
   ]
  },
  {
   "cell_type": "markdown",
   "id": "5409fad7",
   "metadata": {},
   "source": [
    "#### Although the X axis isn't clear we can still understand that the average duration of a movie remains has been around the 100 minute range "
   ]
  },
  {
   "cell_type": "markdown",
   "id": "ce4fec3a",
   "metadata": {},
   "source": [
    "### Let's now look at the distribution of the ratings"
   ]
  },
  {
   "cell_type": "code",
   "execution_count": 40,
   "id": "b96aba17",
   "metadata": {},
   "outputs": [
    {
     "data": {
      "image/png": "[encoded data removed]",
      "text/plain": [
       "<Figure size 1600x800 with 1 Axes>"
      ]
     },
     "metadata": {},
     "output_type": "display_data"
    }
   ],
   "source": [
    "rating_counts = df.groupby('rating')['title'].nunique()\n",
    "plt.figure(figsize=(16, 8))\n",
    "colors = ['#b20710'] + ['#221f1f'] * (len(rating_counts) - 1)\n",
    "sns.barplot(x=rating_counts.index, y=rating_counts.values, palette='Spectral')\n",
    "plt.xlabel('Rating')\n",
    "plt.ylabel('Count of Unique Titles')\n",
    "plt.title('Distribution of Ratings')\n",
    "\n",
    "plt.xticks(rotation=45)\n",
    "\n",
    "plt.show()"
   ]
  },
  {
   "cell_type": "markdown",
   "id": "51ff780b",
   "metadata": {},
   "source": [
    "### Let's Now take a look at the top 10 Genres and the bottom 10 Genres"
   ]
  },
  {
   "cell_type": "markdown",
   "id": "2f43ccaa",
   "metadata": {},
   "source": [
    "#### Top 10:"
   ]
  },
  {
   "cell_type": "code",
   "execution_count": 41,
   "id": "bc81c6f9",
   "metadata": {},
   "outputs": [
    {
     "data": {
      "image/png": "[encoded data removed]",
      "text/plain": [
       "<Figure size 1200x800 with 1 Axes>"
      ]
     },
     "metadata": {},
     "output_type": "display_data"
    }
   ],
   "source": [
    "listed_in_counts = df.groupby('listed_in')['title'].nunique()\n",
    "\n",
    "top_10_listed_in = listed_in_counts.head(10)\n",
    "\n",
    "plt.figure(figsize=(12, 8))\n",
    "bar_plot = sns.barplot(x=top_10_listed_in.index, y=top_10_listed_in.values, palette='Spectral')\n",
    "\n",
    "plt.xlabel('Category')\n",
    "plt.ylabel('Number of Unique Movies/TV Shows')\n",
    "plt.title('Top 10 Categories by Movie/TV Show Count')\n",
    "plt.xticks(rotation=45)\n",
    "\n",
    "for index, value in enumerate(top_10_listed_in.values):\n",
    "    bar_plot.text(index, value, str(value), ha='center', va='bottom')\n",
    "\n",
    "plt.show()"
   ]
  },
  {
   "cell_type": "markdown",
   "id": "603790d3",
   "metadata": {},
   "source": [
    "#### Bottom 10:"
   ]
  },
  {
   "cell_type": "code",
   "execution_count": 42,
   "id": "750bff60",
   "metadata": {},
   "outputs": [
    {
     "data": {
      "image/png": "[encoded data removed]",
      "text/plain": [
       "<Figure size 1200x800 with 1 Axes>"
      ]
     },
     "metadata": {},
     "output_type": "display_data"
    }
   ],
   "source": [
    "listed_in_counts = df.groupby('listed_in')['title'].nunique()\n",
    "\n",
    "bottom_10_listed_in = listed_in_counts.tail(10)\n",
    "plt.figure(figsize=(12, 8))\n",
    "bar_plot = sns.barplot(x=bottom_10_listed_in.index, y=bottom_10_listed_in.values, palette='Spectral')\n",
    "plt.xlabel('Category')\n",
    "plt.ylabel('Number of Unique Movies/TV Shows')\n",
    "plt.title('Bottom 10 Categories by Movie/TV Show Count')\n",
    "plt.xticks(rotation=45)\n",
    "\n",
    "for index, value in enumerate(bottom_10_listed_in.values):\n",
    "    bar_plot.text(index, value, str(value), ha='center', va='bottom')\n",
    "\n",
    "plt.show()"
   ]
  },
  {
   "cell_type": "markdown",
   "id": "c8b92c15",
   "metadata": {},
   "source": [
    "### Lets look at the Total movies/TV shows distribution by duration of the content\n"
   ]
  },
  {
   "cell_type": "code",
   "execution_count": 43,
   "id": "1464c2b8",
   "metadata": {},
   "outputs": [],
   "source": [
    "movies  = df.loc[df['type'] == 'Movie']\n",
    "tv_shows = df.loc[df['type'] == 'TV Show'] \n"
   ]
  },
  {
   "cell_type": "code",
   "execution_count": 44,
   "id": "e68698d5",
   "metadata": {},
   "outputs": [
    {
     "data": {
      "image/png": "[encoded data removed]",
      "text/plain": [
       "<Figure size 800x600 with 2 Axes>"
      ]
     },
     "metadata": {},
     "output_type": "display_data"
    }
   ],
   "source": [
    "\n",
    "fig, ax = plt.subplots(2,1, figsize=(8,6))\n",
    "\n",
    "sns.boxplot (data = movies , x = 'duration' ,ax =ax[0])\n",
    "ax[0].set_xlabel('duration' ,  fontsize = 12)\n",
    "ax[0].set_title('Total movies by duration')\n",
    "\n",
    "sns.boxplot (data = tv_shows , x = 'duration' , ax = ax[1])\n",
    "ax[1].set_xlabel('Number_of_seasons' ,  fontsize = 12)\n",
    "ax[1].set_title('Total TV shows by duration')\n",
    "\n",
    "plt.tight_layout()\n",
    "plt.show()"
   ]
  },
  {
   "cell_type": "code",
   "execution_count": null,
   "id": "c69a298a",
   "metadata": {},
   "outputs": [],
   "source": []
  },
  {
   "cell_type": "code",
   "execution_count": null,
   "id": "e6026501",
   "metadata": {},
   "outputs": [],
   "source": []
  }
 ],
 "metadata": {
  "kernelspec": {
   "display_name": "Python 3 (ipykernel)",
   "language": "python",
   "name": "python3"
  },
  "language_info": {
   "codemirror_mode": {
    "name": "ipython",
    "version": 3
   },
   "file_extension": ".py",
   "mimetype": "text/x-python",
   "name": "python",
   "nbconvert_exporter": "python",
   "pygments_lexer": "ipython3",
   "version": "3.11.5"
  }
 },
 "nbformat": 4,
 "nbformat_minor": 5
}
